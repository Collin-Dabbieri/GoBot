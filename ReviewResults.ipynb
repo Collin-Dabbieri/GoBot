{
 "cells": [
  {
   "cell_type": "markdown",
   "metadata": {},
   "source": [
    "# Here we review the results of training a model"
   ]
  },
  {
   "cell_type": "code",
   "execution_count": 1,
   "metadata": {},
   "outputs": [],
   "source": [
    "import numpy as np\n",
    "from matplotlib import pyplot as plt\n",
    "plt.rcParams['figure.figsize'] = [15, 8]"
   ]
  },
  {
   "cell_type": "code",
   "execution_count": 7,
   "metadata": {},
   "outputs": [
    {
     "name": "stdout",
     "output_type": "stream",
     "text": [
      "{'args': {'conv': [50, 50, 50, 50, 50, 50, 50, 50, 50, 50], 'epochs': 1, 'activation': 'elu', 'l2': 0.001, 'kernel_initializer': 'glorot_uniform', 'bias_initializer': 'zeros', 'padding': 'same', 'output_activation': 'softmax', 'verbose': 1, 'kernel_size': [5, 3, 3, 3, 3, 3, 3, 3, 3, 3], 'loss': 'binary_crossentropy', 'opt': 'adam', 'lrate': 0.0001, 'shuffle': True}, 'history': {'loss': [15.209299087524414], 'binary_accuracy': [0.0027700697537511587], 'val_loss': [15.206999778747559], 'val_binary_accuracy': [0.0027700827922672033]}, 'num_params': 205951, 'fname_base': 'conv_50_50_50_50_50_50_50_50_50_50_l2_00.001_lrate_0.0001'}\n"
     ]
    }
   ],
   "source": [
    "results_filename='./results/conv_50_50_50_50_50_50_50_50_50_50_l2_00.001_lrate_0.0001_results.npy'\n",
    "\n",
    "results=np.load(results_filename,allow_pickle=True)\n",
    "print(results.item())"
   ]
  },
  {
   "cell_type": "code",
   "execution_count": null,
   "metadata": {},
   "outputs": [],
   "source": []
  }
 ],
 "metadata": {
  "kernelspec": {
   "display_name": "Python 3",
   "language": "python",
   "name": "python3"
  },
  "language_info": {
   "codemirror_mode": {
    "name": "ipython",
    "version": 3
   },
   "file_extension": ".py",
   "mimetype": "text/x-python",
   "name": "python",
   "nbconvert_exporter": "python",
   "pygments_lexer": "ipython3",
   "version": "3.8.6"
  }
 },
 "nbformat": 4,
 "nbformat_minor": 4
}
